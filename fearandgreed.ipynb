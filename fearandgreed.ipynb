{
 "cells": [
  {
   "cell_type": "markdown",
   "metadata": {},
   "source": [
    "## Import libraries\n",
    "In this section the packages are imported."
   ]
  },
  {
   "cell_type": "code",
   "execution_count": 140,
   "metadata": {},
   "outputs": [],
   "source": [
    "\n",
    "\n",
    "import pytz\n",
    "import json\n",
    "import yfinance as yf\n",
    "import pandas as pd\n",
    "import numpy as np\n",
    "import requests\n",
    "from bs4 import BeautifulSoup\n",
    "import ta\n",
    "\n",
    "import dash\n",
    "from dash import dcc, html\n",
    "import plotly.graph_objs as go\n",
    "import datetime"
   ]
  },
  {
   "cell_type": "markdown",
   "metadata": {},
   "source": [
    "## Extracting data\n",
    "In this section the necessary data is extracted. \n",
    "The Fear and Greed Index (FGI) is extracted from the CNN website.\n",
    "The SPY is extracted with yfinance."
   ]
  },
  {
   "cell_type": "code",
   "execution_count": 141,
   "metadata": {},
   "outputs": [],
   "source": [
    "START_DATE = '2023-01-01'"
   ]
  },
  {
   "cell_type": "code",
   "execution_count": 142,
   "metadata": {},
   "outputs": [],
   "source": [
    "def fetch_fear_greed_index(): \n",
    "        # in this section the FGI is extracted from the CNN website\n",
    "        # simulating to be a human\n",
    "        headers = {\n",
    "        \"User-Agent\": \"Mozilla/5.0 (Windows NT 10.0; Win64; x64) \"\n",
    "                        \"AppleWebKit/537.36 (KHTML, like Gecko) \"\n",
    "                        \"Chrome/114.0.0.0 Safari/537.36\"\n",
    "        }\n",
    "\n",
    "        # the website of CNN and start date of extraction\n",
    "        BASE_URL = 'https://production.dataviz.cnn.io/index/fearandgreed/graphdata'\n",
    "\n",
    "        # importing the data from the website\n",
    "        r = requests.get('{}/{}'.format(BASE_URL, START_DATE),headers=headers)\n",
    "        data = r.json()\n",
    "\n",
    "        # the data is converted into a dataframe\n",
    "        fg_data = data['fear_and_greed_historical']['data']\n",
    "        fear_greed_values = {}\n",
    "\n",
    "        # for all the data the date is transformed into a normal datetime\n",
    "        for data in fg_data:\n",
    "                dt = datetime.datetime.fromtimestamp(data['x'] / 1000, tz=pytz.utc)\n",
    "                fear_greed_values[dt.date()] = int(data['y'])\n",
    "\n",
    "        # the values are put into a dataframe\n",
    "        fear_greed_values = pd.DataFrame(fear_greed_values.values(),index=fear_greed_values.keys(),columns = ['FGI'])\n",
    "\n",
    "        return fear_greed_values"
   ]
  },
  {
   "cell_type": "code",
   "execution_count": 143,
   "metadata": {},
   "outputs": [
    {
     "name": "stderr",
     "output_type": "stream",
     "text": [
      "[*********************100%***********************]  1 of 1 completed\n",
      "[*********************100%***********************]  1 of 1 completed\n"
     ]
    },
    {
     "data": {
      "text/html": [
       "<div>\n",
       "<style scoped>\n",
       "    .dataframe tbody tr th:only-of-type {\n",
       "        vertical-align: middle;\n",
       "    }\n",
       "\n",
       "    .dataframe tbody tr th {\n",
       "        vertical-align: top;\n",
       "    }\n",
       "\n",
       "    .dataframe thead th {\n",
       "        text-align: right;\n",
       "    }\n",
       "</style>\n",
       "<table border=\"1\" class=\"dataframe\">\n",
       "  <thead>\n",
       "    <tr style=\"text-align: right;\">\n",
       "      <th>Ticker</th>\n",
       "      <th>^VIX</th>\n",
       "    </tr>\n",
       "    <tr>\n",
       "      <th>Date</th>\n",
       "      <th></th>\n",
       "    </tr>\n",
       "  </thead>\n",
       "  <tbody>\n",
       "    <tr>\n",
       "      <th>2023-01-03</th>\n",
       "      <td>22.900000</td>\n",
       "    </tr>\n",
       "    <tr>\n",
       "      <th>2023-01-04</th>\n",
       "      <td>22.010000</td>\n",
       "    </tr>\n",
       "    <tr>\n",
       "      <th>2023-01-05</th>\n",
       "      <td>22.459999</td>\n",
       "    </tr>\n",
       "    <tr>\n",
       "      <th>2023-01-06</th>\n",
       "      <td>21.129999</td>\n",
       "    </tr>\n",
       "    <tr>\n",
       "      <th>2023-01-09</th>\n",
       "      <td>21.969999</td>\n",
       "    </tr>\n",
       "    <tr>\n",
       "      <th>...</th>\n",
       "      <td>...</td>\n",
       "    </tr>\n",
       "    <tr>\n",
       "      <th>2025-05-20</th>\n",
       "      <td>18.090000</td>\n",
       "    </tr>\n",
       "    <tr>\n",
       "      <th>2025-05-21</th>\n",
       "      <td>20.870001</td>\n",
       "    </tr>\n",
       "    <tr>\n",
       "      <th>2025-05-22</th>\n",
       "      <td>20.280001</td>\n",
       "    </tr>\n",
       "    <tr>\n",
       "      <th>2025-05-23</th>\n",
       "      <td>22.290001</td>\n",
       "    </tr>\n",
       "    <tr>\n",
       "      <th>2025-05-27</th>\n",
       "      <td>18.959999</td>\n",
       "    </tr>\n",
       "  </tbody>\n",
       "</table>\n",
       "<p>601 rows × 1 columns</p>\n",
       "</div>"
      ],
      "text/plain": [
       "Ticker           ^VIX\n",
       "Date                 \n",
       "2023-01-03  22.900000\n",
       "2023-01-04  22.010000\n",
       "2023-01-05  22.459999\n",
       "2023-01-06  21.129999\n",
       "2023-01-09  21.969999\n",
       "...               ...\n",
       "2025-05-20  18.090000\n",
       "2025-05-21  20.870001\n",
       "2025-05-22  20.280001\n",
       "2025-05-23  22.290001\n",
       "2025-05-27  18.959999\n",
       "\n",
       "[601 rows x 1 columns]"
      ]
     },
     "execution_count": 143,
     "metadata": {},
     "output_type": "execute_result"
    }
   ],
   "source": [
    "def fetch_data():\n",
    "    # SPY data\n",
    "    spy = yf.download('SPY', start=START_DATE, interval='1d')\n",
    "    spy.dropna(inplace=True)\n",
    "\n",
    "    # Technical Indicators\n",
    "    spy['200DMA'] = spy['Close'].rolling(window=200).mean()\n",
    "\n",
    "    spy['RSI'] = ta.momentum.RSIIndicator((spy['Close'].squeeze()), window=14).rsi()\n",
    "\n",
    "    macd = ta.trend.MACD(spy['Close'].squeeze())\n",
    "    spy['MACD'] = macd.macd()\n",
    "    spy['MACD_signal'] = macd.macd_signal()\n",
    "    spy['MACD_hist'] = macd.macd_diff()\n",
    "    \n",
    "    return spy\n",
    "\n",
    "def fetch_vix():\n",
    "    vix = yf.download('^VIX', start=START_DATE, interval='1d')\n",
    "    return vix['Close']\n",
    "\n",
    "fetch_data()\n",
    "fetch_vix()"
   ]
  },
  {
   "cell_type": "code",
   "execution_count": 159,
   "metadata": {},
   "outputs": [
    {
     "name": "stderr",
     "output_type": "stream",
     "text": [
      "[*********************100%***********************]  1 of 1 completed\n",
      "[*********************100%***********************]  1 of 1 completed"
     ]
    },
    {
     "name": "stdout",
     "output_type": "stream",
     "text": [
      "65\n",
      "False False\n"
     ]
    },
    {
     "name": "stderr",
     "output_type": "stream",
     "text": [
      "\n"
     ]
    }
   ],
   "source": [
    "def generate_signals(df, fgi, vix):\n",
    "    latest = df.iloc[-1]\n",
    "    vix = vix.iloc[-1]\n",
    "    fgi = fgi.iloc[-1].squeeze()\n",
    "    print(fgi)\n",
    "\n",
    "    buy = (\n",
    "        fgi is not None and fgi < 30 and\n",
    "        latest['Close'] > latest['200DMA'] and\n",
    "        latest['RSI'] < 40 and\n",
    "        latest['MACD'] > latest['MACD_signal']  # Bullish MACD crossover\n",
    "    )\n",
    "    \n",
    "    sell = (\n",
    "        fgi is not None and fgi > 70 and\n",
    "        latest['RSI'] > 70 and\n",
    "        vix < 15 and\n",
    "        (latest['MACD'] < latest['MACD_signal'] or latest['Close'] < latest['200DMA'])\n",
    "    )\n",
    "\n",
    "    return buy, sell\n",
    "\n",
    "spy = fetch_data()\n",
    "fgi = fetch_fear_greed_index()\n",
    "vix = fetch_vix()\n",
    "buy, sell = generate_signals(spy, fgi, vix)\n",
    "print(buy, sell)"
   ]
  },
  {
   "cell_type": "code",
   "execution_count": null,
   "metadata": {},
   "outputs": [],
   "source": [
    "\n",
    "    "
   ]
  },
  {
   "cell_type": "code",
   "execution_count": null,
   "metadata": {},
   "outputs": [
    {
     "name": "stderr",
     "output_type": "stream",
     "text": [
      "c:\\Users\\bwava\\miniconda3\\Lib\\site-packages\\seaborn\\_oldcore.py:1119: FutureWarning: use_inf_as_na option is deprecated and will be removed in a future version. Convert inf values to NaN before operating instead.\n",
      "  with pd.option_context('mode.use_inf_as_na', True):\n",
      "c:\\Users\\bwava\\miniconda3\\Lib\\site-packages\\seaborn\\_oldcore.py:1119: FutureWarning: use_inf_as_na option is deprecated and will be removed in a future version. Convert inf values to NaN before operating instead.\n",
      "  with pd.option_context('mode.use_inf_as_na', True):\n",
      "c:\\Users\\bwava\\miniconda3\\Lib\\site-packages\\seaborn\\_oldcore.py:1119: FutureWarning: use_inf_as_na option is deprecated and will be removed in a future version. Convert inf values to NaN before operating instead.\n",
      "  with pd.option_context('mode.use_inf_as_na', True):\n",
      "c:\\Users\\bwava\\miniconda3\\Lib\\site-packages\\seaborn\\_oldcore.py:1119: FutureWarning: use_inf_as_na option is deprecated and will be removed in a future version. Convert inf values to NaN before operating instead.\n",
      "  with pd.option_context('mode.use_inf_as_na', True):\n"
     ]
    },
    {
     "data": {
      "image/png": "[encoded data removed]",
      "text/plain": [
       "<Figure size 500x500 with 2 Axes>"
      ]
     },
     "metadata": {},
     "output_type": "display_data"
    }
   ],
   "source": [
    "fig, axs = plt.subplots(2,1,figsize=(5,5))\n",
    "sns.lineplot(data=df_comb, x = 'index',y='fear and greed index',ax=axs[1])\n",
    "sns.lineplot(data=df_comb, x = 'index',y='SPY',ax=axs[0])\n",
    "axs[0].set_xticklabels([])\n",
    "axs[1].tick_params(axis='x', rotation=45)\n",
    "\n",
    "axs[1].axhline(y=70,color='red')\n",
    "axs[1].axhline(y=30,color='green')\n",
    "\n",
    "\n",
    "plt.tight_layout()"
   ]
  }
 ],
 "metadata": {
  "kernelspec": {
   "display_name": "Python 3",
   "language": "python",
   "name": "python3"
  },
  "language_info": {
   "codemirror_mode": {
    "name": "ipython",
    "version": 3
   },
   "file_extension": ".py",
   "mimetype": "text/x-python",
   "name": "python",
   "nbconvert_exporter": "python",
   "pygments_lexer": "ipython3",
   "version": "3.11.5"
  }
 },
 "nbformat": 4,
 "nbformat_minor": 2
}
